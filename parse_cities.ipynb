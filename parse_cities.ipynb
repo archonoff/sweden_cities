{
 "cells": [
  {
   "cell_type": "code",
   "execution_count": 4,
   "metadata": {
    "collapsed": true,
    "pycharm": {
     "is_executing": false
    }
   },
   "outputs": [],
   "source": [
    "import pandas as pd"
   ]
  },
  {
   "cell_type": "code",
   "execution_count": 2,
   "outputs": [],
   "source": [
    "columns = [\n",
    "    'geonameid',\n",
    "    'name',                     # !\n",
    "    'asciiname',\n",
    "    'alternatenames',\n",
    "    'latitude',                 # !\n",
    "    'longitude',                # !\n",
    "    'feature class',            # P - city, village, etc.\n",
    "    'feature code',\n",
    "    'country',\n",
    "    'cc2',\n",
    "    'admin1',\n",
    "    'admin2',\n",
    "    'admin3',\n",
    "    'admin4',\n",
    "    'population',               # !\n",
    "    'elevation',\n",
    "    'dem',\n",
    "    'timezone',\n",
    "    'modification',\n",
    "]"
   ],
   "metadata": {
    "collapsed": false,
    "pycharm": {
     "name": "#%%\n",
     "is_executing": false
    }
   }
  },
  {
   "cell_type": "code",
   "execution_count": 3,
   "outputs": [],
   "source": [
    "tsv_filename = 'SE/SE.txt'"
   ],
   "metadata": {
    "collapsed": false,
    "pycharm": {
     "name": "#%%\n",
     "is_executing": false
    }
   }
  },
  {
   "cell_type": "code",
   "execution_count": 5,
   "outputs": [],
   "source": [
    "cities = pd.read_csv(tsv_filename, sep='\\t', names=columns)"
   ],
   "metadata": {
    "collapsed": false,
    "pycharm": {
     "name": "#%%\n",
     "is_executing": false
    }
   }
  },
  {
   "cell_type": "code",
   "execution_count": 13,
   "outputs": [
    {
     "name": "stderr",
     "text": [
      "/Users/oleg/.local/share/virtualenvs/venvs/sweden_cities/lib/python3.7/site-packages/ipykernel_launcher.py:1: UserWarning: Boolean Series key will be reindexed to match DataFrame index.\n  \"\"\"Entry point for launching an IPython kernel.\n"
     ],
     "output_type": "stream"
    },
    {
     "data": {
      "text/plain": "                 name  latitude  longitude feature class  population\n525              Böle  64.36667   21.35833             P         418\n1337       Hästholmen  65.75000   23.01667             P         372\n1637        Bredviken  65.80425   23.60185             P         374\n1922        Vuollerim  66.43038   20.62434             P         683\n1942         Vittjärv  65.85000   21.56667             P         498\n...               ...       ...        ...           ...         ...\n95476       Marielund  65.85307   24.10486             P        1726\n95498  Gransjösvedjan  62.46322   16.69469             P           6\n95644         Kovland  62.47047   17.15348             P         485\n95740          Tången  56.22983   15.71487             P          15\n95742         Hästbyn  65.78896   21.72255             P          20\n\n[2267 rows x 5 columns]",
      "text/html": "<div>\n<style scoped>\n    .dataframe tbody tr th:only-of-type {\n        vertical-align: middle;\n    }\n\n    .dataframe tbody tr th {\n        vertical-align: top;\n    }\n\n    .dataframe thead th {\n        text-align: right;\n    }\n</style>\n<table border=\"1\" class=\"dataframe\">\n  <thead>\n    <tr style=\"text-align: right;\">\n      <th></th>\n      <th>name</th>\n      <th>latitude</th>\n      <th>longitude</th>\n      <th>feature class</th>\n      <th>population</th>\n    </tr>\n  </thead>\n  <tbody>\n    <tr>\n      <td>525</td>\n      <td>Böle</td>\n      <td>64.36667</td>\n      <td>21.35833</td>\n      <td>P</td>\n      <td>418</td>\n    </tr>\n    <tr>\n      <td>1337</td>\n      <td>Hästholmen</td>\n      <td>65.75000</td>\n      <td>23.01667</td>\n      <td>P</td>\n      <td>372</td>\n    </tr>\n    <tr>\n      <td>1637</td>\n      <td>Bredviken</td>\n      <td>65.80425</td>\n      <td>23.60185</td>\n      <td>P</td>\n      <td>374</td>\n    </tr>\n    <tr>\n      <td>1922</td>\n      <td>Vuollerim</td>\n      <td>66.43038</td>\n      <td>20.62434</td>\n      <td>P</td>\n      <td>683</td>\n    </tr>\n    <tr>\n      <td>1942</td>\n      <td>Vittjärv</td>\n      <td>65.85000</td>\n      <td>21.56667</td>\n      <td>P</td>\n      <td>498</td>\n    </tr>\n    <tr>\n      <td>...</td>\n      <td>...</td>\n      <td>...</td>\n      <td>...</td>\n      <td>...</td>\n      <td>...</td>\n    </tr>\n    <tr>\n      <td>95476</td>\n      <td>Marielund</td>\n      <td>65.85307</td>\n      <td>24.10486</td>\n      <td>P</td>\n      <td>1726</td>\n    </tr>\n    <tr>\n      <td>95498</td>\n      <td>Gransjösvedjan</td>\n      <td>62.46322</td>\n      <td>16.69469</td>\n      <td>P</td>\n      <td>6</td>\n    </tr>\n    <tr>\n      <td>95644</td>\n      <td>Kovland</td>\n      <td>62.47047</td>\n      <td>17.15348</td>\n      <td>P</td>\n      <td>485</td>\n    </tr>\n    <tr>\n      <td>95740</td>\n      <td>Tången</td>\n      <td>56.22983</td>\n      <td>15.71487</td>\n      <td>P</td>\n      <td>15</td>\n    </tr>\n    <tr>\n      <td>95742</td>\n      <td>Hästbyn</td>\n      <td>65.78896</td>\n      <td>21.72255</td>\n      <td>P</td>\n      <td>20</td>\n    </tr>\n  </tbody>\n</table>\n<p>2267 rows × 5 columns</p>\n</div>"
     },
     "metadata": {},
     "output_type": "execute_result",
     "execution_count": 13
    }
   ],
   "source": [
    "filtered_cities = cities[['name', 'latitude', 'longitude', 'feature class', 'population']][cities['feature class'] == 'P'][cities['population'] != 0]\n",
    "filtered_cities"
   ],
   "metadata": {
    "collapsed": false,
    "pycharm": {
     "name": "#%%\n",
     "is_executing": false
    }
   }
  },
  {
   "cell_type": "code",
   "execution_count": 17,
   "outputs": [],
   "source": [
    "filtered_cities.to_csv('filtered_cities.csv')"
   ],
   "metadata": {
    "collapsed": false,
    "pycharm": {
     "name": "#%%\n",
     "is_executing": false
    }
   }
  },
  {
   "cell_type": "code",
   "execution_count": 18,
   "outputs": [],
   "source": [
    "filtered_cities.to_json('filtered_cities.json', orient='records')\n"
   ],
   "metadata": {
    "collapsed": false,
    "pycharm": {
     "name": "#%%\n",
     "is_executing": false
    }
   }
  }
 ],
 "metadata": {
  "language_info": {
   "codemirror_mode": {
    "name": "ipython",
    "version": 2
   },
   "file_extension": ".py",
   "mimetype": "text/x-python",
   "name": "python",
   "nbconvert_exporter": "python",
   "pygments_lexer": "ipython2",
   "version": "2.7.6"
  },
  "kernelspec": {
   "name": "python3",
   "language": "python",
   "display_name": "Python 3"
  },
  "pycharm": {
   "stem_cell": {
    "cell_type": "raw",
    "source": [],
    "metadata": {
     "collapsed": false
    }
   }
  }
 },
 "nbformat": 4,
 "nbformat_minor": 0
}